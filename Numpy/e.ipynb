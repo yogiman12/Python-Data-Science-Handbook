{
 "cells": [
  {
   "cell_type": "code",
   "execution_count": null,
   "metadata": {},
   "outputs": [],
   "source": [
    "if contion :\n",
    "    \n",
    "if contion :\n",
    "    \n",
    "if contion :\n",
    "    \n",
    "if contion :\n",
    "    \n",
    "if contion :\n",
    "    \n",
    "if contion :\n",
    "    "
   ]
  },
  {
   "cell_type": "code",
   "execution_count": 21,
   "metadata": {},
   "outputs": [
    {
     "name": "stdout",
     "output_type": "stream",
     "text": [
      "u are baby\n"
     ]
    }
   ],
   "source": [
    "num  = int(float(input(\"enter number:\")))\n",
    "if num >0:\n",
    "    if num >18 :\n",
    "        print('u are adult')\n",
    "    else:\n",
    "        print('u are baby')\n",
    "else:\n",
    "    print('enter postive number')"
   ]
  },
  {
   "cell_type": "code",
   "execution_count": 23,
   "metadata": {},
   "outputs": [
    {
     "data": {
      "text/plain": [
       "True"
      ]
     },
     "execution_count": 23,
     "metadata": {},
     "output_type": "execute_result"
    }
   ],
   "source": [
    "1 in [ 1,22,4]"
   ]
  },
  {
   "cell_type": "code",
   "execution_count": null,
   "metadata": {},
   "outputs": [],
   "source": [
    "lgin = []\n",
    "\n",
    "lgin.append (input('enter your new user name'))\n",
    "\n",
    "if type (lgin[0]) != str :\n",
    "    print ('username must be character',lgin)\n",
    "\n",
    "else : lgin.append( input('enter your new password'))\n",
    "\n",
    "print ('Congratulations you have created a new account', lgin)\n",
    "\n",
    " \n",
    "x = 0\n",
    "while True :\n",
    "\n",
    "    if lgin [0] == input (' enter your user name') :\n",
    "        if lgin[1]  == input (' enter your password'):\n",
    "            # x = 1\n",
    "            print ('welcome')\n",
    "            break"
   ]
  },
  {
   "cell_type": "code",
   "execution_count": null,
   "metadata": {},
   "outputs": [],
   "source": [
    "a ,b,c = 1,2,3\n",
    "a =1\n",
    "b=2\n",
    "c=3\n"
   ]
  }
 ],
 "metadata": {
  "kernelspec": {
   "display_name": "base",
   "language": "python",
   "name": "python3"
  },
  "language_info": {
   "codemirror_mode": {
    "name": "ipython",
    "version": 3
   },
   "file_extension": ".py",
   "mimetype": "text/x-python",
   "name": "python",
   "nbconvert_exporter": "python",
   "pygments_lexer": "ipython3",
   "version": "3.11.5"
  }
 },
 "nbformat": 4,
 "nbformat_minor": 2
}
