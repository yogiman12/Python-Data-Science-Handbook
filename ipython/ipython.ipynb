{
 "cells": [
  {
   "cell_type": "markdown",
   "metadata": {
    "vscode": {
     "languageId": "raw"
    }
   },
   "source": [
    "start terminal :**ipython** \n",
    "</br>\n",
    "open jupyter notebook : **jupyter notebook**\n"
   ]
  },
  {
   "cell_type": "markdown",
   "metadata": {},
   "source": [
    "use **? ?? help()** :\n",
    "\n",
    "• How do I call this function? What arguments and options does it have?\n",
    "\n",
    "• What does the source code of this Python object look like?\n",
    "\n",
    "• What is in this package I imported? What attributes or methods does this object have\n"
   ]
  },
  {
   "cell_type": "code",
   "execution_count": 56,
   "metadata": {},
   "outputs": [],
   "source": [
    "# sum? \n",
    "# sum?? ! use can see source code \n",
    "# help(sum)\n",
    "\n",
    "def a ( a :int):\n",
    "    \"\"\" take a & return a\"\"\"\n",
    "    _ = a+a+a\n",
    "    return a\n",
    "# help(a)\n"
   ]
  },
  {
   "cell_type": "markdown",
   "metadata": {},
   "source": [
    "---\n",
    "####  wild card\n",
    "\n",
    "we can search for var , function , library with **(*)** wild card\n",
    "\n",
    "EX:\n",
    "\n",
    "    n*? # start with n\n",
    "    --> BaseException\n",
    "        Exception\n",
    "        In\n",
    "        StopAsyncIteration\n",
    "        StopIteration\n",
    "        bin\n",
    "        get_ipython\n",
    "        len\n",
    "        min\n",
    "        open\n",
    "        \n",
    "    *z*? # n in middel\n",
    "    --> frozenset\n",
    "        zip\n",
    "        \n",
    "    *n? # n in end\n",
    "    --> BaseExceptionGroup\n",
    "        ExceptionGroup\n",
    "        help\n",
    "        map\n",
    "        zip\n",
    "    "
   ]
  }
 ],
 "metadata": {
  "kernelspec": {
   "display_name": "Python 3 (ipykernel)",
   "language": "python",
   "name": "python3"
  },
  "language_info": {
   "codemirror_mode": {
    "name": "ipython",
    "version": 3
   },
   "file_extension": ".py",
   "mimetype": "text/x-python",
   "name": "python",
   "nbconvert_exporter": "python",
   "pygments_lexer": "ipython3",
   "version": "3.11.5"
  }
 },
 "nbformat": 4,
 "nbformat_minor": 2
}
